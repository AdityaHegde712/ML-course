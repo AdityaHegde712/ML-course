{
 "cells": [
  {
   "cell_type": "markdown",
   "metadata": {},
   "source": [
    "# Assignment Task\n",
    "1. Implement decision tree on dataser\n",
    "2. Basic decision tree algorithm\n",
    "3. Find evaluation metrics\n",
    "4. Visualize the final tree\n",
    "5. Splitting criteria\n",
    "6. information gain and gini impurity\n",
    "\n",
    "In other words, you have to take any dataset (numerical or categorical). Apply basic generic decision tree algorithm, apply any two spliting criteria and show the difference in evaluation metrics."
   ]
  },
  {
   "cell_type": "code",
   "execution_count": null,
   "metadata": {},
   "outputs": [],
   "source": [
    "from sklearn.tree import DecisionTreeClassifier"
   ]
  }
 ],
 "metadata": {
  "language_info": {
   "name": "python"
  },
  "orig_nbformat": 4
 },
 "nbformat": 4,
 "nbformat_minor": 2
}
