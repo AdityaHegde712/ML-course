{
 "cells": [
  {
   "cell_type": "markdown",
   "metadata": {},
   "source": [
    "# Random Forest\n",
    "This is a form of Ensemble learning (taking multiple algorithms together to make something super stronk)"
   ]
  },
  {
   "cell_type": "markdown",
   "metadata": {},
   "source": [
    "#### Steps:\n",
    "* Pick (randomly) k data points from your training set\n",
    "* Build a decision tree associated with these data points (your subset). \n",
    "* Choose number (Ntree) of trees to build, and repeat steps 1 and 2.\n",
    "* For a new data point, make each of the Ntree trees predict the value of Y for the new data point, and assign the new data point as average of the new predicted values.\n"
   ]
  },
  {
   "cell_type": "code",
   "execution_count": null,
   "metadata": {},
   "outputs": [],
   "source": []
  }
 ],
 "metadata": {
  "language_info": {
   "name": "python"
  },
  "orig_nbformat": 4
 },
 "nbformat": 4,
 "nbformat_minor": 2
}
